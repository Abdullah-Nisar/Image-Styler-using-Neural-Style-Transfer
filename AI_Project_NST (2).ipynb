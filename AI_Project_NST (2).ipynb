{
  "cells": [
    {
      "cell_type": "code",
      "execution_count": null,
      "metadata": {
        "colab": {
          "background_save": true,
          "base_uri": "https://localhost:8080/"
        },
        "id": "7biKe9H7foWk",
        "outputId": "86e4302d-f420-42dc-86dd-048d24ab16c1"
      },
      "outputs": [
        {
          "name": "stderr",
          "output_type": "stream",
          "text": [
            "/usr/local/lib/python3.10/dist-packages/torchvision/models/_utils.py:208: UserWarning: The parameter 'pretrained' is deprecated since 0.13 and may be removed in the future, please use 'weights' instead.\n",
            "  warnings.warn(\n",
            "/usr/local/lib/python3.10/dist-packages/torchvision/models/_utils.py:223: UserWarning: Arguments other than a weight enum or `None` for 'weights' are deprecated since 0.13 and may be removed in the future. The current behavior is equivalent to passing `weights=VGG19_Weights.IMAGENET1K_V1`. You can also use `weights=VGG19_Weights.DEFAULT` to get the most up-to-date weights.\n",
            "  warnings.warn(msg)\n"
          ]
        },
        {
          "name": "stdout",
          "output_type": "stream",
          "text": [
            "tensor(13980285., device='cuda:0', grad_fn=<AddBackward0>)\n",
            "tensor(65388.3242, device='cuda:0', grad_fn=<AddBackward0>)\n",
            "tensor(33250.1211, device='cuda:0', grad_fn=<AddBackward0>)\n",
            "tensor(24922.9258, device='cuda:0', grad_fn=<AddBackward0>)\n",
            "tensor(20617.1309, device='cuda:0', grad_fn=<AddBackward0>)\n",
            "tensor(18044.7949, device='cuda:0', grad_fn=<AddBackward0>)\n",
            "tensor(16366.6475, device='cuda:0', grad_fn=<AddBackward0>)\n",
            "tensor(15273.4023, device='cuda:0', grad_fn=<AddBackward0>)\n",
            "tensor(14567.6299, device='cuda:0', grad_fn=<AddBackward0>)\n",
            "tensor(15871.2949, device='cuda:0', grad_fn=<AddBackward0>)\n",
            "tensor(12596.1797, device='cuda:0', grad_fn=<AddBackward0>)\n",
            "tensor(13205.7549, device='cuda:0', grad_fn=<AddBackward0>)\n",
            "tensor(13466.5195, device='cuda:0', grad_fn=<AddBackward0>)\n",
            "tensor(11967.5537, device='cuda:0', grad_fn=<AddBackward0>)\n",
            "tensor(11119.2012, device='cuda:0', grad_fn=<AddBackward0>)\n"
          ]
        }
      ],
      "source": [
        "import torch\n",
        "import torch.nn as nn\n",
        "import torch.optim as optim\n",
        "from PIL import Image\n",
        "import os\n",
        "import torchvision.transforms as transforms\n",
        "import torchvision.models as models\n",
        "from torchvision.utils import save_image\n",
        "\n",
        "class VGG(nn.Module):\n",
        "    def __init__(self):\n",
        "        super(VGG, self).__init__()\n",
        "        self.chosen_features = ['0', '5', '10', '19', '28']\n",
        "        self.model = models.vgg19(pretrained=True).features[:29]\n",
        "\n",
        "    def forward(self, x):\n",
        "        features = []\n",
        "        for layer_num, layer in enumerate(self.model):\n",
        "            x = layer(x)\n",
        "\n",
        "            if str(layer_num) in self.chosen_features:\n",
        "                features.append(x)\n",
        "        return features\n",
        "\n",
        "def load_image(image_name):\n",
        "    image = Image.open(image_name)\n",
        "    image = image.convert(\"RGB\")\n",
        "    image = loader(image).unsqueeze(0)\n",
        "    return image.to(device)\n",
        "\n",
        "def convert_to_jpg(image_path):\n",
        "    img = Image.open(image_path)\n",
        "    file_name, file_extension = os.path.splitext(image_path)\n",
        "\n",
        "    if file_extension.lower() != \".jpg\":\n",
        "        new_image_path = f\"{file_name}.jpg\"\n",
        "        img = img.convert(\"RGB\") \n",
        "        img.save(new_image_path, \"JPEG\", quality=90)\n",
        "        return new_image_path\n",
        "    else:\n",
        "        return image_path\n",
        "\n",
        "device = torch.device(\"cuda\" if torch.cuda.is_available() else \"cpu\")\n",
        "image_size = 356\n",
        "\n",
        "# Add normalization to the loader\n",
        "loader = transforms.Compose(\n",
        "    [\n",
        "        transforms.Resize((image_size, image_size)),\n",
        "        transforms.ToTensor(),\n",
        "        # transforms.Normalize(mean=[0.485, 0.456, 0.406], std=[0.229, 0.224, 0.225])\n",
        "    ]\n",
        ")\n",
        "\n",
        "\n",
        "\n",
        "model = VGG().to(device).eval()\n",
        "\n",
        "original_img_name = \"image1.jpeg\"\n",
        "style_img_name = \"style.jpg\"\n",
        "\n",
        "original_image_name = convert_to_jpg(original_img_name)\n",
        "style_img_name = convert_to_jpg(style_img_name)\n",
        "\n",
        "original_img = load_image(original_img_name)\n",
        "style_img = load_image(style_img_name)\n",
        "generated = original_img.clone().requires_grad_(True)\n",
        "\n",
        "# Hyperparameters\n",
        "total_steps = 3000\n",
        "learning_rate = 0.008\n",
        "alpha = 10\n",
        "beta = 0.1\n",
        "optimizer = optim.Adam([generated], lr=learning_rate)\n",
        "\n",
        "for step in range(total_steps):\n",
        "    generated_features = model(generated)\n",
        "    original_img_features = model(original_img)\n",
        "    style_features = model(style_img)\n",
        "\n",
        "    style_loss = original_loss = 0\n",
        "\n",
        "    for gen_feature, orig_feature, style_feature in zip(\n",
        "            generated_features, original_img_features, style_features\n",
        "    ):\n",
        "        batch_size, channel, height, width = gen_feature.shape\n",
        "        original_loss += torch.mean((gen_feature - orig_feature) ** 2)\n",
        "\n",
        "        # Compute Gram matrix\n",
        "        G = gen_feature.view(channel, height * width).mm(\n",
        "            gen_feature.view(channel, height * width).t()\n",
        "        )\n",
        "        A = style_feature.view(channel, height * width).mm(\n",
        "            style_feature.view(channel, height * width).t()\n",
        "        )\n",
        "        style_loss += torch.mean((G - A) ** 2)\n",
        "\n",
        "    total_loss = alpha * original_loss + beta * style_loss\n",
        "    optimizer.zero_grad()\n",
        "    total_loss.backward()\n",
        "    optimizer.step()\n",
        "\n",
        "    if step % 200 == 0:\n",
        "        print(total_loss)\n",
        "        save_image(generated, \"generated1.jpg\")\n",
        "        "
      ]
    },
    {
      "cell_type": "code",
      "execution_count": null,
      "metadata": {
        "colab": {
          "base_uri": "https://localhost:8080/"
        },
        "id": "TK80wb2qYVMw",
        "outputId": "370e7dbd-1164-425f-a592-5a29b7f9d2e4"
      },
      "outputs": [
        {
          "name": "stderr",
          "output_type": "stream",
          "text": [
            "/usr/local/lib/python3.10/dist-packages/torchvision/models/_utils.py:208: UserWarning: The parameter 'pretrained' is deprecated since 0.13 and may be removed in the future, please use 'weights' instead.\n",
            "  warnings.warn(\n",
            "/usr/local/lib/python3.10/dist-packages/torchvision/models/_utils.py:223: UserWarning: Arguments other than a weight enum or `None` for 'weights' are deprecated since 0.13 and may be removed in the future. The current behavior is equivalent to passing `weights=VGG19_Weights.IMAGENET1K_V1`. You can also use `weights=VGG19_Weights.DEFAULT` to get the most up-to-date weights.\n",
            "  warnings.warn(msg)\n"
          ]
        },
        {
          "data": {
            "text/plain": [
              "Sequential(\n",
              "  (0): Conv2d(3, 64, kernel_size=(3, 3), stride=(1, 1), padding=(1, 1))\n",
              "  (1): ReLU(inplace=True)\n",
              "  (2): Conv2d(64, 64, kernel_size=(3, 3), stride=(1, 1), padding=(1, 1))\n",
              "  (3): ReLU(inplace=True)\n",
              "  (4): MaxPool2d(kernel_size=2, stride=2, padding=0, dilation=1, ceil_mode=False)\n",
              "  (5): Conv2d(64, 128, kernel_size=(3, 3), stride=(1, 1), padding=(1, 1))\n",
              "  (6): ReLU(inplace=True)\n",
              "  (7): Conv2d(128, 128, kernel_size=(3, 3), stride=(1, 1), padding=(1, 1))\n",
              "  (8): ReLU(inplace=True)\n",
              "  (9): MaxPool2d(kernel_size=2, stride=2, padding=0, dilation=1, ceil_mode=False)\n",
              "  (10): Conv2d(128, 256, kernel_size=(3, 3), stride=(1, 1), padding=(1, 1))\n",
              "  (11): ReLU(inplace=True)\n",
              "  (12): Conv2d(256, 256, kernel_size=(3, 3), stride=(1, 1), padding=(1, 1))\n",
              "  (13): ReLU(inplace=True)\n",
              "  (14): Conv2d(256, 256, kernel_size=(3, 3), stride=(1, 1), padding=(1, 1))\n",
              "  (15): ReLU(inplace=True)\n",
              "  (16): Conv2d(256, 256, kernel_size=(3, 3), stride=(1, 1), padding=(1, 1))\n",
              "  (17): ReLU(inplace=True)\n",
              "  (18): MaxPool2d(kernel_size=2, stride=2, padding=0, dilation=1, ceil_mode=False)\n",
              "  (19): Conv2d(256, 512, kernel_size=(3, 3), stride=(1, 1), padding=(1, 1))\n",
              "  (20): ReLU(inplace=True)\n",
              "  (21): Conv2d(512, 512, kernel_size=(3, 3), stride=(1, 1), padding=(1, 1))\n",
              "  (22): ReLU(inplace=True)\n",
              "  (23): Conv2d(512, 512, kernel_size=(3, 3), stride=(1, 1), padding=(1, 1))\n",
              "  (24): ReLU(inplace=True)\n",
              "  (25): Conv2d(512, 512, kernel_size=(3, 3), stride=(1, 1), padding=(1, 1))\n",
              "  (26): ReLU(inplace=True)\n",
              "  (27): MaxPool2d(kernel_size=2, stride=2, padding=0, dilation=1, ceil_mode=False)\n",
              "  (28): Conv2d(512, 512, kernel_size=(3, 3), stride=(1, 1), padding=(1, 1))\n",
              "  (29): ReLU(inplace=True)\n",
              "  (30): Conv2d(512, 512, kernel_size=(3, 3), stride=(1, 1), padding=(1, 1))\n",
              "  (31): ReLU(inplace=True)\n",
              "  (32): Conv2d(512, 512, kernel_size=(3, 3), stride=(1, 1), padding=(1, 1))\n",
              "  (33): ReLU(inplace=True)\n",
              "  (34): Conv2d(512, 512, kernel_size=(3, 3), stride=(1, 1), padding=(1, 1))\n",
              "  (35): ReLU(inplace=True)\n",
              "  (36): MaxPool2d(kernel_size=2, stride=2, padding=0, dilation=1, ceil_mode=False)\n",
              ")"
            ]
          },
          "execution_count": 4,
          "metadata": {},
          "output_type": "execute_result"
        }
      ],
      "source": [
        "models.vgg19(pretrained=True).features"
      ]
    },
    {
      "cell_type": "code",
      "execution_count": null,
      "metadata": {
        "colab": {
          "base_uri": "https://localhost:8080/"
        },
        "id": "I6Q12S0sa5Ja",
        "outputId": "28d015af-908d-42a0-b043-77ee6639a08a"
      },
      "outputs": [
        {
          "name": "stdout",
          "output_type": "stream",
          "text": [
            "Looking in indexes: https://pypi.org/simple, https://us-python.pkg.dev/colab-wheels/public/simple/\n",
            "Collecting SSIM-PIL\n",
            "  Downloading SSIM_PIL-1.0.14-py3-none-any.whl (11 kB)\n",
            "Installing collected packages: SSIM-PIL\n",
            "Successfully installed SSIM-PIL-1.0.14\n"
          ]
        }
      ],
      "source": [
        "!pip install SSIM-PIL"
      ]
    },
    {
      "cell_type": "code",
      "execution_count": null,
      "metadata": {
        "colab": {
          "base_uri": "https://localhost:8080/"
        },
        "id": "-vk8zHiIcNHE",
        "outputId": "e7ee6fea-bb33-4d5f-f7cf-72df073d392e"
      },
      "outputs": [
        {
          "name": "stdout",
          "output_type": "stream",
          "text": [
            "0.3361212368225351\n"
          ]
        }
      ],
      "source": [
        "from PIL import Image\n",
        "from SSIM_PIL import compare_ssim\n",
        "\n",
        "image1 = Image.open('/content/image.jpeg')\n",
        "target_size = (356, 356)\n",
        "# Resize the image\n",
        "resized_img = image1.resize(target_size)\n",
        "image2 = Image.open('/content/generated1.jpg')\n",
        "\n",
        "#  Compare images using CPU-only version\n",
        "value = compare_ssim(resized_img, image2, GPU=False)\n",
        "print(value)"
      ]
    },
    {
      "cell_type": "code",
      "execution_count": null,
      "metadata": {
        "colab": {
          "base_uri": "https://localhost:8080/"
        },
        "id": "XqUVICyIcYDj",
        "outputId": "5e4853f2-6b4f-4bf3-996c-875f6f02f4e5"
      },
      "outputs": [
        {
          "data": {
            "text/plain": [
              "0.47492231290529935"
            ]
          },
          "execution_count": 13,
          "metadata": {},
          "output_type": "execute_result"
        }
      ],
      "source": [
        "np.mean(np.abs(np.array(resized_img) - np.array(image2)))/255"
      ]
    },
    {
      "cell_type": "code",
      "execution_count": null,
      "metadata": {
        "id": "cnYg6-yCclu1"
      },
      "outputs": [],
      "source": []
    }
  ],
  "metadata": {
    "accelerator": "GPU",
    "colab": {
      "provenance": []
    },
    "gpuClass": "standard",
    "kernelspec": {
      "display_name": "Python 3",
      "name": "python3"
    },
    "language_info": {
      "name": "python"
    }
  },
  "nbformat": 4,
  "nbformat_minor": 0
}